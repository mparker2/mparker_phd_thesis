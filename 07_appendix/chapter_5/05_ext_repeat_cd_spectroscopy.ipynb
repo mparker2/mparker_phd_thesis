{
 "cells": [
  {
   "cell_type": "markdown",
   "metadata": {},
   "source": [
    "# CD Spectroscopy Data Normalisation"
   ]
  },
  {
   "cell_type": "markdown",
   "metadata": {},
   "source": [
    "A Jasco J-810 spectropolarimeter with a Peltier heating unit was used to obtain CD spectra between 200 and 300 nm. Samples were analysed at a volume of 200 µL in a 1 mm path-length cuvette. All oligos were analysed at 10 µM by using 20 µL of a 100 µM stock in the cuvette. 100 µL of 2X lithium cacodylate buffer stock was then added. Samples were either made up to 200 µL with ultrapure water (control), or were made up to 50 mM K+ and 8 µM NMM by adding 10 µL of 1 M potassium hydroxide and 1.6 µL of 1 mM NMM before making up to 200 µL with ultrapure water. The 2X stock of lithium cacodylate buffer was prepared by dissolving 550 mg cacodylic acid in 200 mL water and adjusting the pH to 6.0 using lithium hydroxide.\n",
    "\n",
    "CD spectroscopy was conducted on the extension repeat oligo and its negative control, as well as oligos based on the PGQs in those genes which gave significant changes in 3’/5’ ratios upon addition of NMM"
   ]
  },
  {
   "cell_type": "code",
   "execution_count": 11,
   "metadata": {
    "ExecuteTime": {
     "end_time": "2017-05-22T11:20:21.500715Z",
     "start_time": "2017-05-22T12:20:18.307031+01:00"
    },
    "collapsed": true
   },
   "outputs": [
    {
     "data": {
      "image/png": "[encoded data removed]",
      "text/plain": [
       "<matplotlib.figure.Figure at 0x7f429e8093c8>"
      ]
     },
     "metadata": {},
     "output_type": "display_data"
    }
   ],
   "source": [
    "import glob\n",
    "from math import factorial\n",
    "import numpy as np\n",
    "import pandas as pd\n",
    "from scipy import stats\n",
    "import matplotlib.pyplot as plt\n",
    "from matplotlib.colors import ListedColormap\n",
    "import seaborn as sns\n",
    "from Bio.SeqUtils import molecular_weight\n",
    "\n",
    "%matplotlib inline\n",
    "pd.options.display.max_rows = 100\n",
    "sns.set(font='Arial')\n",
    "plt.rcParams['svg.fonttype'] = 'none'\n",
    "style = sns.axes_style('white')\n",
    "style.update(sns.axes_style('ticks'))\n",
    "style['xtick.major.size'] = 2\n",
    "style['ytick.major.size'] = 2\n",
    "sns.set(font_scale=2, style=style)\n",
    "pal = sns.color_palette(['#0072b2', '#d55e00', '#009e73', '#f0e442', '#cc79a7'])\n",
    "cmap = ListedColormap(pal.as_hex())\n",
    "sns.set_palette(pal)\n",
    "sns.palplot(pal)\n",
    "plt.show()"
   ]
  },
  {
   "cell_type": "code",
   "execution_count": 5,
   "metadata": {
    "ExecuteTime": {
     "end_time": "2017-05-22T11:20:21.523431Z",
     "start_time": "2017-05-22T12:20:21.502465+01:00"
    }
   },
   "outputs": [],
   "source": [
    "def savitzky_golay(y, window_size, order, deriv=0, rate=1):\n",
    "    try:\n",
    "        window_size = np.abs(np.int(window_size))\n",
    "        order = np.abs(np.int(order))\n",
    "    except ValueError:\n",
    "        raise ValueError(\"window_size and order have to be of type int\")\n",
    "    if window_size % 2 != 1 or window_size < 1:\n",
    "        raise TypeError(\"window_size size must be a positive odd number\")\n",
    "    if window_size < order + 2:\n",
    "        raise TypeError(\"window_size is too small for the polynomials order\")\n",
    "    order_range = range(order+1)\n",
    "    half_window = (window_size -1) // 2\n",
    "    # precompute coefficients\n",
    "    b = np.mat([[k**i for i in order_range] for k in range(-half_window, half_window+1)])\n",
    "    m = np.linalg.pinv(b).A[deriv] * rate**deriv * factorial(deriv)\n",
    "    # pad the signal at the extremes with\n",
    "    # values taken from the signal itself\n",
    "    firstvals = y[0] - np.abs( y[1:half_window+1][::-1] - y[0] )\n",
    "    lastvals = y[-1] + np.abs(y[-half_window-1:-1][::-1] - y[-1])\n",
    "    y = np.concatenate((firstvals, y, lastvals))\n",
    "    return np.convolve( m[::-1], y, mode='valid')"
   ]
  },
  {
   "cell_type": "markdown",
   "metadata": {},
   "source": [
    "From: https://www.ncbi.nlm.nih.gov/pmc/articles/PMC5334661/\n",
    "\n",
    "To normalize the CD spectra of G-quadruplex use the formula $Δε(M^{−1}·cm^{−1}) =θ/(32980*c*l)$ where $θ$ is the CD ellipticity in millidegrees (mdeg), $c$ is the strand concentration in mol/L of G-quadruplex, and $l$ is the path length in cm."
   ]
  },
  {
   "cell_type": "markdown",
   "metadata": {},
   "source": [
    "Table 1\n",
    "Values for the apparent molar extinction coefficient at 260 nm for a human telomeric G-quadruplex sequence determined by various methods. Values refer to strand concentration in a buffer containing 6 mM Na2HPO4, 2 mM NaH2PO4, 1 mM Na2EDTA, and 185 mM NaCl, pH 7.0, 20°C.\n",
    "\n",
    "| Method                            | ε. M−1cm−1      | Comments                          |\n",
    "|-----------------------------------|-----------------|-----------------------------------|\n",
    "| Calculated, Nearest Neighbora     | 228,500         | Unfolded, single-strand form      |\n",
    "| Colorimetric Phosphateb           | 196,480 ± 5,680 | Folded                            |\n",
    "| Colorimetric Phosphate            | 200,310 ± 1,000 | Folded; independent determination |\n",
    "| Absorbance, thermal denaturation  | 194,600         | Folded                            |\n",
    "| Absorbance, enzymatic digestion   | 201,180         | Folded                            |\n",
    "| Absorbance, alkaline denaturation | 199,700         | Folded                            |\n",
    "| Average of all methods            | 198,450 ± 2,790 | Folded; %Hc = 15.1                |\n",
    "\n",
    "a[1] R. Buscaglia, R. D. Gray and J. B. Chaires, Biopolymers 2013, 99, 1006–1018.\n",
    "c%H is the per cent hyperchromism at 260 nm"
   ]
  },
  {
   "cell_type": "code",
   "execution_count": 88,
   "metadata": {
    "ExecuteTime": {
     "end_time": "2017-05-22T11:20:21.829039Z",
     "start_time": "2017-05-22T12:20:21.524841+01:00"
    }
   },
   "outputs": [
    {
     "data": {
      "text/html": [
       "<div>\n",
       "<style>\n",
       "    .dataframe thead tr:only-child th {\n",
       "        text-align: right;\n",
       "    }\n",
       "\n",
       "    .dataframe thead th {\n",
       "        text-align: left;\n",
       "    }\n",
       "\n",
       "    .dataframe tbody tr th {\n",
       "        vertical-align: top;\n",
       "    }\n",
       "</style>\n",
       "<table border=\"1\" class=\"dataframe\">\n",
       "  <thead>\n",
       "    <tr style=\"text-align: right;\">\n",
       "      <th></th>\n",
       "      <th>Sequence</th>\n",
       "      <th>Potassium</th>\n",
       "      <th>Wavelength</th>\n",
       "      <th>Normalised</th>\n",
       "    </tr>\n",
       "  </thead>\n",
       "  <tbody>\n",
       "    <tr>\n",
       "      <th>0</th>\n",
       "      <td>Mutated Extensin Repeat</td>\n",
       "      <td>-</td>\n",
       "      <td>220</td>\n",
       "      <td>6.250834</td>\n",
       "    </tr>\n",
       "    <tr>\n",
       "      <th>1</th>\n",
       "      <td>Mutated Extensin Repeat</td>\n",
       "      <td>-</td>\n",
       "      <td>221</td>\n",
       "      <td>6.243666</td>\n",
       "    </tr>\n",
       "    <tr>\n",
       "      <th>2</th>\n",
       "      <td>Mutated Extensin Repeat</td>\n",
       "      <td>-</td>\n",
       "      <td>222</td>\n",
       "      <td>6.112260</td>\n",
       "    </tr>\n",
       "    <tr>\n",
       "      <th>3</th>\n",
       "      <td>Mutated Extensin Repeat</td>\n",
       "      <td>-</td>\n",
       "      <td>223</td>\n",
       "      <td>6.047957</td>\n",
       "    </tr>\n",
       "    <tr>\n",
       "      <th>4</th>\n",
       "      <td>Mutated Extensin Repeat</td>\n",
       "      <td>-</td>\n",
       "      <td>224</td>\n",
       "      <td>5.924907</td>\n",
       "    </tr>\n",
       "  </tbody>\n",
       "</table>\n",
       "</div>"
      ],
      "text/plain": [
       "                  Sequence Potassium  Wavelength  Normalised\n",
       "0  Mutated Extensin Repeat         -         220    6.250834\n",
       "1  Mutated Extensin Repeat         -         221    6.243666\n",
       "2  Mutated Extensin Repeat         -         222    6.112260\n",
       "3  Mutated Extensin Repeat         -         223    6.047957\n",
       "4  Mutated Extensin Repeat         -         224    5.924907"
      ]
     },
     "execution_count": 88,
     "metadata": {},
     "output_type": "execute_result"
    }
   ],
   "source": [
    "all_spectra = []\n",
    "for f in glob.glob('*.txt'):\n",
    "    n = f.split('.')[0]\n",
    "    seq, _, k = n.rsplit('_', 2)\n",
    "    cd = pd.read_table(f, sep='\\t', \n",
    "                       names=['Wavelength', 'cd', 'x', 'cntrl'],\n",
    "                       usecols=['Wavelength', 'cd', 'cntrl'])\n",
    "    cd['baseline_subtracted'] = df[n]['cd'] - df[n]['cntrl']\n",
    "    cd['Normalised'] = savitzky_golay(\n",
    "        (df[n]['baseline_subtracted'] / (32980 * 0.00001 * 0.1)).values,\n",
    "        window_size=25,\n",
    "        order=3\n",
    "    )\n",
    "    cd['Sequence'] = seq\n",
    "    cd['Potassium'] = k\n",
    "    cd = cd[['Sequence', 'Potassium', 'Wavelength', 'Normalised']].copy()\n",
    "    all_spectra.append(cd)\n",
    "all_spectra = pd.concat(all_spectra)\n",
    "all_spectra['Sequence'] = all_spectra.Sequence.map({\n",
    "    'mut_ext': 'Mutated Extensin Repeat',\n",
    "    'ext': 'Extensin Repeat',\n",
    "})\n",
    "all_spectra['Potassium'] = all_spectra.Potassium.map({\n",
    "    'pos': '+', 'neg': '-'\n",
    "})\n",
    "all_spectra.head()"
   ]
  },
  {
   "cell_type": "code",
   "execution_count": 93,
   "metadata": {},
   "outputs": [
    {
     "name": "stderr",
     "output_type": "stream",
     "text": [
      "/home/matthew/anaconda3/envs/ml_python35/lib/python3.5/site-packages/seaborn/timeseries.py:183: UserWarning: The tsplot function is deprecated and will be removed or replaced (in a substantially altered version) in a future release.\n",
      "  warnings.warn(msg, UserWarning)\n"
     ]
    },
    {
     "data": {
      "image/png": "[encoded data removed]",
      "text/plain": [
       "<matplotlib.figure.Figure at 0x7f429d9a1ac8>"
      ]
     },
     "metadata": {},
     "output_type": "display_data"
    }
   ],
   "source": [
    "fig, axes = plt.subplots(figsize=(9, 5), ncols=2, sharex=True, sharey=True)\n",
    "axes = axes.squeeze()\n",
    "all_spectra['unit'] = 0\n",
    "for ax, (n, group) in zip(axes.ravel(), all_spectra.groupby('Sequence')):\n",
    "    sns.tsplot(group, time='Wavelength', value='Normalised', condition='Potassium', unit='unit', ax=ax, legend=False)\n",
    "    ax.set_xlabel('Wavelength (nm)')\n",
    "    ax.set_ylabel('')\n",
    "axes[0].set_ylabel('$Δε(M^{−1}·cm^{−1})$')\n",
    "axes[1].plot([], [], color=pal[1], label='50mM K+')\n",
    "axes[1].plot([], [], color=pal[0], label='0mM K+')\n",
    "axes[1].legend()\n",
    "plt.tight_layout()\n",
    "plt.savefig('cd_spec_ext_repeat.svg')\n",
    "plt.show()"
   ]
  },
  {
   "cell_type": "code",
   "execution_count": null,
   "metadata": {},
   "outputs": [],
   "source": [
    "\n"
   ]
  }
 ],
 "metadata": {
  "kernelspec": {
   "display_name": "Environment (conda_ml_python35)",
   "language": "python",
   "name": "conda_ml_python35"
  },
  "language_info": {
   "codemirror_mode": {
    "name": "ipython",
    "version": 3
   },
   "file_extension": ".py",
   "mimetype": "text/x-python",
   "name": "python",
   "nbconvert_exporter": "python",
   "pygments_lexer": "ipython3",
   "version": "3.5.4"
  },
  "toc": {
   "toc_cell": false,
   "toc_number_sections": true,
   "toc_threshold": 6,
   "toc_window_display": false
  },
  "widgets": {
   "state": {},
   "version": "1.1.1"
  }
 },
 "nbformat": 4,
 "nbformat_minor": 2
}
