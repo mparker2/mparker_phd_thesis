{
 "cells": [
  {
   "cell_type": "code",
   "execution_count": 1,
   "metadata": {},
   "outputs": [
    {
     "data": {
      "image/png": "[encoded data removed]",
      "text/plain": [
       "<matplotlib.figure.Figure at 0x7f4da040f940>"
      ]
     },
     "metadata": {},
     "output_type": "display_data"
    }
   ],
   "source": [
    "import os\n",
    "import glob\n",
    "import numpy as np\n",
    "import pandas as pd\n",
    "import matplotlib.pyplot as plt\n",
    "import seaborn as sns\n",
    "import rpy2.robjects as robj\n",
    "from scipy import stats\n",
    "import pysam\n",
    "\n",
    "%load_ext rpy2.ipython\n",
    "robj.pandas2ri.activate()\n",
    "\n",
    "%matplotlib inline\n",
    "\n",
    "sns.set(font='Arial')\n",
    "plt.rcParams['svg.fonttype'] = 'none'\n",
    "style = sns.axes_style('white')\n",
    "style.update(sns.axes_style('ticks'))\n",
    "style['xtick.major.size'] = 2\n",
    "style['ytick.major.size'] = 2\n",
    "sns.set(font_scale=2, style=style)\n",
    "pal = sns.color_palette(['#0072b2', '#d55e00', '#009e73', '#f0e442', '#cc79a7'])\n",
    "sns.set_palette(pal)\n",
    "sns.palplot(pal)\n",
    "plt.show()\n"
   ]
  },
  {
   "cell_type": "markdown",
   "metadata": {},
   "source": [
    "To test whether template G4 dense genes might produce abortive transcripts that are degraded by the exosome rather than maturing to mRNAs, we analysed publicly available GRO-seq data [(Hetzel et al. 2016)](https://www.ncbi.nlm.nih.gov/pmc/articles/PMC5087027/). Raw data was downloaded from GEO and remapped using STAR. Exonic read counts were then tallied using featureCounts. DESeq2 was used to normalise read counts by library depth and log2 ratios for GRO/RNAseq counts were calculated. Since GRO-seq captures nascent RNA irrespective of its stability, and RNAseq captures stable RNAs, this ratio represents an estimate of the amount of unstable products produced at each gene loci. We found that the largest difference in ratio was between non-coding and protein coding RNAs, with non-coding RNAs having much greater GRO/RNA ratios. This is likely explained by the higher rate of modification of many ncRNAs, e.g. tRNAs, which prevent reverse transcription and sequencing by RNAseq. Other ncRNAs such as natural antisense RNAs may also be unstable and degraded quickly.\n",
    "\n",
    "G4 predictions were calculated using G4Seeqer and the score of the maximum score region within the transcribed body of each gene was assigned to the gene. A G4 containing set was produced using genes which contained a maximum template strand G4seeqer score of more than 0.95, and a G4 negative set was produced using genes with a maximum score of only 0.05 or less. We found a small but significant positive increase in GRO/RNA ratio for G4 dense genes (p = 0.009), suggesting that more abortive transcripts are produced from these genes. In contrast, genes with high scoring G4 regions on the coding strand did not have greater GRO/RNA ratios (p=0.4)."
   ]
  },
  {
   "cell_type": "code",
   "execution_count": 14,
   "metadata": {},
   "outputs": [
    {
     "name": "stdout",
     "output_type": "stream",
     "text": [
      "R version 3.4.1 (2017-06-30)\n",
      "Platform: x86_64-pc-linux-gnu (64-bit)\n",
      "Running under: Ubuntu 16.04.4 LTS\n",
      "\n",
      "Matrix products: default\n",
      "BLAS: /home/matthew/anaconda3/envs/ml_python35/lib/R/lib/libRblas.so\n",
      "LAPACK: /home/matthew/anaconda3/envs/ml_python35/lib/R/lib/libRlapack.so\n",
      "\n",
      "locale:\n",
      " [1] LC_CTYPE=en_GB.UTF-8       LC_NUMERIC=C              \n",
      " [3] LC_TIME=en_GB.UTF-8        LC_COLLATE=en_GB.UTF-8    \n",
      " [5] LC_MONETARY=en_GB.UTF-8    LC_MESSAGES=en_GB.UTF-8   \n",
      " [7] LC_PAPER=en_GB.UTF-8       LC_NAME=C                 \n",
      " [9] LC_ADDRESS=C               LC_TELEPHONE=C            \n",
      "[11] LC_MEASUREMENT=en_GB.UTF-8 LC_IDENTIFICATION=C       \n",
      "\n",
      "attached base packages:\n",
      " [1] parallel  stats4    tools     stats     graphics  grDevices utils    \n",
      " [8] datasets  methods   base     \n",
      "\n",
      "other attached packages:\n",
      " [1] DESeq2_1.18.1              SummarizedExperiment_1.8.0\n",
      " [3] DelayedArray_0.4.1         matrixStats_0.52.2        \n",
      " [5] Biobase_2.38.0             GenomicRanges_1.30.3      \n",
      " [7] GenomeInfoDb_1.14.0        IRanges_2.12.0            \n",
      " [9] S4Vectors_0.16.0           BiocGenerics_0.24.0       \n",
      "[11] ggplot2_2.2.1             \n",
      "\n",
      "loaded via a namespace (and not attached):\n",
      " [1] genefilter_1.60.0       locfit_1.5-9.1          splines_3.4.1          \n",
      " [4] lattice_0.20-34         colorspace_1.3-2        htmltools_0.3.6        \n",
      " [7] base64enc_0.1-3         survival_2.40-1         XML_3.98-1.6           \n",
      "[10] rlang_0.2.0             pillar_1.2.1            DBI_0.8                \n",
      "[13] foreign_0.8-67          BiocParallel_1.12.0     RColorBrewer_1.1-2     \n",
      "[16] GenomeInfoDbData_0.99.0 plyr_1.8.4              stringr_1.3.0          \n",
      "[19] zlibbioc_1.24.0         munsell_0.4.3           gtable_0.2.0           \n",
      "[22] htmlwidgets_1.0         memoise_1.1.0           latticeExtra_0.6-28    \n",
      "[25] knitr_1.20              geneplotter_1.56.0      AnnotationDbi_1.40.0   \n",
      "[28] htmlTable_1.9           Rcpp_0.12.15            acepack_1.4.1          \n",
      "[31] xtable_1.8-2            scales_0.5.0            backports_1.1.2        \n",
      "[34] checkmate_1.8.2         Hmisc_4.0-3             annotate_1.56.0        \n",
      "[37] XVector_0.18.0          gridExtra_2.3           digest_0.6.12          \n",
      "[40] stringi_1.1.6           grid_3.4.1              bitops_1.0-6           \n",
      "[43] magrittr_1.5            RSQLite_1.1-2           lazyeval_0.2.1         \n",
      "[46] RCurl_1.95-4.8          tibble_1.4.2            Formula_1.2-1          \n",
      "[49] cluster_2.0.6           Matrix_1.2-12           data.table_1.10.4      \n",
      "[52] rpart_4.1-13            nnet_7.3-12             compiler_3.4.1\n",
      "Error in file(file, \"rt\") : cannot open the connection\n"
     ]
    },
    {
     "name": "stderr",
     "output_type": "stream",
     "text": [
      "/home/matthew/anaconda3/envs/ml_python35/lib/python3.5/site-packages/rpy2/rinterface/__init__.py:186: RRuntimeWarning: Error in file(file, \"rt\") : cannot open the connection\n",
      "\n",
      "  warnings.warn(x, RRuntimeWarning)\n",
      "/home/matthew/anaconda3/envs/ml_python35/lib/python3.5/site-packages/rpy2/rinterface/__init__.py:186: RRuntimeWarning: In addition: \n",
      "  warnings.warn(x, RRuntimeWarning)\n",
      "/home/matthew/anaconda3/envs/ml_python35/lib/python3.5/site-packages/rpy2/rinterface/__init__.py:186: RRuntimeWarning: Warning message:\n",
      "\n",
      "  warnings.warn(x, RRuntimeWarning)\n",
      "/home/matthew/anaconda3/envs/ml_python35/lib/python3.5/site-packages/rpy2/rinterface/__init__.py:186: RRuntimeWarning: In file(file, \"rt\") :\n",
      "  warnings.warn(x, RRuntimeWarning)\n",
      "/home/matthew/anaconda3/envs/ml_python35/lib/python3.5/site-packages/rpy2/rinterface/__init__.py:186: RRuntimeWarning: \n",
      " \n",
      "  warnings.warn(x, RRuntimeWarning)\n",
      "/home/matthew/anaconda3/envs/ml_python35/lib/python3.5/site-packages/rpy2/rinterface/__init__.py:186: RRuntimeWarning:  cannot open file '/home/matthew/iceberg_fastdata/groseq/exon_counts.tsv': No such file or directory\n",
      "\n",
      "  warnings.warn(x, RRuntimeWarning)\n"
     ]
    }
   ],
   "source": [
    "%%R -o lengths,gene_ids,counts\n",
    "library(ggplot2)\n",
    "library(DESeq2)\n",
    "\n",
    "print(sessionInfo())\n",
    "\n",
    "counts <- read.table('/home/matthew/iceberg_fastdata/groseq/exon_counts.tsv',\n",
    "                     comment='#', header=TRUE, row.names = 1)\n",
    "gene_ids <- rownames(counts)\n",
    "lengths <- counts$Length\n",
    "counts <- counts[,7:ncol(counts)]\n",
    "counts <- counts[rowSums(counts > 1) >= 2,]\n",
    "colnames(counts) <- c('gro_1', 'gro_2', 'rna_1', 'rna_2')\n",
    "colData <- data.frame(row.names=colnames(counts), \n",
    "                      exp_type=rep(c('gro', 'rna'), each=2))\n",
    "dds <- DESeqDataSetFromMatrix(counts, colData = colData, design = ~ exp_type)\n",
    "dds <- estimateSizeFactors(dds)"
   ]
  },
  {
   "cell_type": "code",
   "execution_count": 3,
   "metadata": {},
   "outputs": [
    {
     "name": "stdout",
     "output_type": "stream",
     "text": [
      "\n",
      "Error in counts(dds, normalized = TRUE) : object 'dds' not found\n"
     ]
    },
    {
     "name": "stderr",
     "output_type": "stream",
     "text": [
      "/home/matthew/anaconda3/envs/ml_python35/lib/python3.5/site-packages/rpy2/rinterface/__init__.py:186: RRuntimeWarning: Error in counts(dds, normalized = TRUE) : object 'dds' not found\n",
      "\n",
      "  warnings.warn(x, RRuntimeWarning)\n"
     ]
    }
   ],
   "source": [
    "%%R\n",
    "logcpm <- log2(counts(dds, normalized=TRUE))\n",
    "logcpm[is.infinite(logcpm)] <- 0\n",
    "logcpm <- as.data.frame(logcpm)\n",
    "logcpm[,'gro_av_exprs'] = rowMeans(logcpm[,1:2])\n",
    "logcpm[,'rna_av_exprs'] = rowMeans(logcpm[,3:4])\n",
    "g <- ggplot(data=logcpm, mapping=aes(x=gro_av_exprs, y=rna_av_exprs))\n",
    "g <- g + geom_point(shape='x')\n",
    "g"
   ]
  },
  {
   "cell_type": "code",
   "execution_count": 4,
   "metadata": {},
   "outputs": [
    {
     "name": "stdout",
     "output_type": "stream",
     "text": [
      "\n",
      "Error in withVisible({ : object 'logcpm' not found\n"
     ]
    },
    {
     "name": "stderr",
     "output_type": "stream",
     "text": [
      "/home/matthew/anaconda3/envs/ml_python35/lib/python3.5/site-packages/rpy2/rinterface/__init__.py:186: RRuntimeWarning: Error in withVisible({ : object 'logcpm' not found\n",
      "\n",
      "  warnings.warn(x, RRuntimeWarning)\n"
     ]
    }
   ],
   "source": [
    "%%R -o logcpm\n",
    "logcpm[,'log_gro_rna_ratio'] = logcpm[,'gro_av_exprs'] - logcpm[,'rna_av_exprs']"
   ]
  },
  {
   "cell_type": "code",
   "execution_count": 5,
   "metadata": {},
   "outputs": [
    {
     "name": "stdout",
     "output_type": "stream",
     "text": [
      "\n",
      "Error in is(object, \"DESeqDataSet\") : object 'dds' not found\n"
     ]
    },
    {
     "name": "stderr",
     "output_type": "stream",
     "text": [
      "/home/matthew/anaconda3/envs/ml_python35/lib/python3.5/site-packages/rpy2/rinterface/__init__.py:186: RRuntimeWarning: Error in is(object, \"DESeqDataSet\") : object 'dds' not found\n",
      "\n",
      "  warnings.warn(x, RRuntimeWarning)\n"
     ]
    }
   ],
   "source": [
    "%%R -o res\n",
    "dds <- DESeq(dds, )\n",
    "res <- as.data.frame(results(dds, contrast=c('exp_type', 'gro', 'rna')))"
   ]
  },
  {
   "cell_type": "code",
   "execution_count": 6,
   "metadata": {},
   "outputs": [
    {
     "ename": "NameError",
     "evalue": "name 'res' is not defined",
     "output_type": "error",
     "traceback": [
      "\u001b[0;31m---------------------------------------------------------------------------\u001b[0m",
      "\u001b[0;31mNameError\u001b[0m                                 Traceback (most recent call last)",
      "\u001b[0;32m<ipython-input-6-564ff5dfb786>\u001b[0m in \u001b[0;36m<module>\u001b[0;34m()\u001b[0m\n\u001b[0;32m----> 1\u001b[0;31m \u001b[0mres\u001b[0m\u001b[0;34m.\u001b[0m\u001b[0msort_values\u001b[0m\u001b[0;34m(\u001b[0m\u001b[0;34m'padj'\u001b[0m\u001b[0;34m,\u001b[0m \u001b[0mascending\u001b[0m\u001b[0;34m=\u001b[0m\u001b[0;32mTrue\u001b[0m\u001b[0;34m)\u001b[0m\u001b[0;34m.\u001b[0m\u001b[0mhead\u001b[0m\u001b[0;34m(\u001b[0m\u001b[0mn\u001b[0m\u001b[0;34m=\u001b[0m\u001b[0;36m25\u001b[0m\u001b[0;34m)\u001b[0m\u001b[0;34m\u001b[0m\u001b[0m\n\u001b[0m",
      "\u001b[0;31mNameError\u001b[0m: name 'res' is not defined"
     ]
    }
   ],
   "source": [
    "res.sort_values('padj', ascending=True).head(n=25)"
   ]
  },
  {
   "cell_type": "code",
   "execution_count": null,
   "metadata": {},
   "outputs": [],
   "source": [
    "%%bash\n",
    "source activate ml_python35\n",
    "g4seeqer -ts 0 -p 4 \\\n",
    "  -f /home/matthew/Documents/genomes/tair10/fasta/tair10_genome.fa \\\n",
    "  -b /tmp/tair10_g4_g4seeqer.bed"
   ]
  },
  {
   "cell_type": "code",
   "execution_count": null,
   "metadata": {},
   "outputs": [],
   "source": [
    "!head  /tmp/tair10_g4_g4seeqer.bed"
   ]
  },
  {
   "cell_type": "code",
   "execution_count": null,
   "metadata": {},
   "outputs": [],
   "source": [
    "%%bash\n",
    "source activate cgat_python2\n",
    "\n",
    "sort -k1,1 -k2,2n /tmp/tair10_g4_g4seeqer.bed > /tmp/tair10_g4_g4seeqer.sorted.bed\n",
    "\n",
    "bedtools map -c 4 -o max -s -prec 2 -F 0.75 \\\n",
    "  -a /home/matthew/Documents/genomes/tair10/gff/araport11_genes.bed \\\n",
    "  -b /tmp/tair10_g4_g4seeqer.sorted.bed > /tmp/g4seeqer_pos_max_score.bed\n",
    "\n",
    "bedtools map -c 4 -o max -S -prec 2 -F 0.75 \\\n",
    "  -a /home/matthew/Documents/genomes/tair10/gff/araport11_genes.bed \\\n",
    "  -b /tmp/tair10_g4_g4seeqer.sorted.bed > /tmp/g4seeqer_neg_max_score.bed"
   ]
  },
  {
   "cell_type": "code",
   "execution_count": null,
   "metadata": {},
   "outputs": [],
   "source": [
    "!head /tmp/g4seeqer_pos_max_score.bed"
   ]
  },
  {
   "cell_type": "code",
   "execution_count": null,
   "metadata": {},
   "outputs": [],
   "source": [
    "colnames = ['chrom', 'start', 'end', 'gene_id', 'score', 'strand', 'max_g4seeqer_score']\n",
    "converters = {'gene_id': str,\n",
    "              'max_g4seeqer_score': lambda x: 0 if x == '.' else float(x)}\n",
    "pos_g4seeqer = pd.read_csv('/tmp/g4seeqer_pos_max_score.bed',\n",
    "                           sep='\\t',\n",
    "                           names=colnames,\n",
    "                           converters=converters,\n",
    "                           usecols=['gene_id', 'max_g4seeqer_score'])\n",
    "neg_g4seeqer = pd.read_csv('/tmp/g4seeqer_neg_max_score.bed',\n",
    "                           sep='\\t',\n",
    "                           names=colnames,\n",
    "                           converters=converters,\n",
    "                           usecols=['gene_id', 'max_g4seeqer_score'])\n",
    "\n",
    "g4seeqer_score = pos_g4seeqer.merge(neg_g4seeqer,\n",
    "                                    on='gene_id',\n",
    "                                    suffixes=('_coding', '_template'))\n",
    "g4seeqer_score = g4seeqer_score.set_index('gene_id')\n",
    "g4seeqer_score.head()                          "
   ]
  },
  {
   "cell_type": "code",
   "execution_count": 7,
   "metadata": {},
   "outputs": [
    {
     "name": "stderr",
     "output_type": "stream",
     "text": [
      "INFO:root:Output from G4Predict\n",
      "INFO:root:Parsing command line arguments\n",
      "INFO:root:Running in mode: intra\n",
      "INFO:root:Parameters:\n",
      "{       'bed': '/tmp/tair10_g4.bed',\n",
      "        'fasta': '/home/matthew/Documents/genomes/tair10/fasta/tair10_genome.fa',\n",
      "        'filter_overlapping': True,\n",
      "        'func': <function intra at 0x7fde5cc89b90>,\n",
      "        'merge_overlapping': False,\n",
      "        'write_bed12': False,\n",
      "        'write_bed6': True}\n",
      "INFO:root:G4 Parameters: \n",
      "{       'bulge_kwargs': {       'bulges_allowed': 0, 'start': 1, 'stop': 5},\n",
      "        'inter_kwargs': {       'start': 2, 'stop': 3},\n",
      "        'loop_kwargs_list': [       {       'allow_G': 1, 'start': 1, 'stop': 7},\n",
      "                                    {       'allow_G': 1, 'start': 1, 'stop': 7},\n",
      "                                    {       'allow_G': 1, 'start': 1, 'stop': 7}],\n",
      "        'score_kwargs': {       'bulge_pen_factor': 5,\n",
      "                                'loop_pen_factor': 1.5,\n",
      "                                'tetrad_score_factor': 20},\n",
      "        'soft_mask': False,\n",
      "        'tetrad_kwargs': {       'start': 2, 'stop': 2}}\n",
      "INFO:root:Predicting G4s\n",
      "INFO:root:Predicted 239216 G4s\n",
      "INFO:root:Sorting G4s...\n",
      "INFO:root:Filtering overlapping G4s\n",
      "INFO:root:117952 G4s remaining after filter method\n",
      "INFO:root:Resorting G4s...\n",
      "INFO:root:Complete. Cleaning up temporary files\n"
     ]
    }
   ],
   "source": [
    "%%bash\n",
    "source activate cgat_python2\n",
    "g4predict intra \\\n",
    "  -f /home/matthew/Documents/genomes/tair10/fasta/tair10_genome.fa \\\n",
    "  -b /tmp/tair10_g4.bed \\\n",
    "  -s \\\n",
    "  -F \\\n",
    "  -tmin 2 \\\n",
    "  -tmax 2 \\\n",
    "  -lmin 1 \\\n",
    "  -lmax 7"
   ]
  },
  {
   "cell_type": "code",
   "execution_count": 8,
   "metadata": {},
   "outputs": [],
   "source": [
    "%%bash\n",
    "source activate cgat_python2\n",
    "\n",
    "bedtools makewindows \\\n",
    "  -g /home/matthew/Documents/genomes/tair10/tair10.chrom.sizes \\\n",
    "  -w 200 -s 25 -i srcwinnum | tee >(\\\n",
    "    awk -v OFS=\"\\t\" '{print $0 \"_pos\", \".\", \"+\"}'  > /tmp/windows_pos.bed) | \\\n",
    "    awk -v OFS=\"\\t\" '{print $0 \"_neg\", \".\", \"-\"}'  > /tmp/windows_neg.bed\n",
    "cat /tmp/windows_pos.bed /tmp/windows_neg.bed | \\\n",
    "sort -k1,1 -k2,2n > /tmp/windows.bed"
   ]
  },
  {
   "cell_type": "code",
   "execution_count": 9,
   "metadata": {},
   "outputs": [],
   "source": [
    "%%bash\n",
    "source activate cgat_python2\n",
    "\n",
    "bedtools map -c 4 -o count -s \\\n",
    "  -a /tmp/windows.bed \\\n",
    "  -b /tmp/tair10_g4.bed | \\\n",
    "awk -v OFS=\"\\t\" '{print $1, $2, $3, $4, $7, $6}' \\\n",
    "  > /tmp/g4_windowed_counts.bed"
   ]
  },
  {
   "cell_type": "code",
   "execution_count": 10,
   "metadata": {},
   "outputs": [],
   "source": [
    "%%bash\n",
    "source activate cgat_python2\n",
    "\n",
    "bedtools map -c 5 -o max -s -prec 1 -F 0.75 \\\n",
    "  -a /home/matthew/Documents/genomes/tair10/gff/araport11_genes.bed \\\n",
    "  -b /tmp/g4_windowed_counts.bed > /tmp/g4_pos_maximal_density.bed\n",
    "\n",
    "bedtools map -c 5 -o max -S -prec 1 -F 0.75 \\\n",
    "  -a /home/matthew/Documents/genomes/tair10/gff/araport11_genes.bed \\\n",
    "  -b /tmp/g4_windowed_counts.bed > /tmp/g4_neg_maximal_density.bed"
   ]
  },
  {
   "cell_type": "code",
   "execution_count": 11,
   "metadata": {},
   "outputs": [],
   "source": [
    "protein_coding_genes = !cut -f4 /home/matthew/Documents/genomes/tair10/gff/Araport11_protein_coding.201606.bed | cut -d \".\" -f1\n",
    "protein_coding_genes = set(protein_coding_genes)"
   ]
  },
  {
   "cell_type": "code",
   "execution_count": null,
   "metadata": {},
   "outputs": [],
   "source": [
    "fig, ax = plt.subplots(figsize=(5, 5))\n",
    "ax.scatter(x='gro_av_exprs',\n",
    "           y='rna_av_exprs',\n",
    "           data=logcpm[prot_coding],\n",
    "           alpha=0.2, s=8,\n",
    "           rasterized=True)\n",
    "ax.plot([-1, 18], [-1, 18], ls='--', c=pal[1], lw=2)\n",
    "ax.set_xlim(-1, 18)\n",
    "ax.set_ylim(-1, 18)\n",
    "ax.set_xlabel('GROseq Av. Expression')\n",
    "ax.set_ylabel('RNAseq Av. Expression')\n",
    "plt.tight_layout()\n",
    "plt.savefig('gro_vs_rna_logcpm.svg')\n",
    "plt.show()"
   ]
  },
  {
   "cell_type": "code",
   "execution_count": null,
   "metadata": {},
   "outputs": [],
   "source": [
    "colnames = ['chrom', 'start', 'end', 'gene_id', 'score', 'strand', 'max_g4_density']\n",
    "converters = {'gene_id': str,\n",
    "              'max_g4_density': lambda x: 0 if x == '.' else round(float(x))}\n",
    "pos_g4_density = pd.read_csv('/tmp/g4_pos_maximal_density.bed',\n",
    "                             sep='\\t',\n",
    "                             names=colnames,\n",
    "                             converters=converters,\n",
    "                             usecols=['gene_id', 'max_g4_density'])\n",
    "neg_g4_density = pd.read_csv('/tmp/g4_neg_maximal_density.bed',\n",
    "                             sep='\\t',\n",
    "                             names=colnames,\n",
    "                             converters=converters,\n",
    "                             usecols=['gene_id', 'max_g4_density'])\n",
    "\n",
    "g4_max_density = pos_g4_density.merge(neg_g4_density,\n",
    "                                      on='gene_id',\n",
    "                                      suffixes=('_coding', '_template'))\n",
    "g4_max_density = g4_max_density.set_index('gene_id')\n",
    "g4_max_density.head()                          "
   ]
  },
  {
   "cell_type": "code",
   "execution_count": null,
   "metadata": {},
   "outputs": [],
   "source": [
    "gro_g4 = res_prot_coding.join(g4seeqer_score, how='left')\n",
    "fig, axes = plt.subplots(figsize=(10, 5), ncols=2, sharey=True)\n",
    "g4_neg = gro_g4.max_g4seeqer_score_coding < 0.05\n",
    "g4_pos = gro_g4.max_g4seeqer_score_coding >= 0.95\n",
    "sns.distplot(gro_g4[g4_neg].log_gro_rna_ratio, label='non-G4', bins=np.linspace(-6, 6, 15), ax=axes[0])\n",
    "sns.distplot(gro_g4[g4_pos].log_gro_rna_ratio, label='G4', bins=np.linspace(-6, 6, 15), ax=axes[0])\n",
    "axes[0].set_xlim(-4, 8)\n",
    "axes[0].set_xlabel('Log2 GRO / RNAseq reads')\n",
    "print(stats.ttest_ind(gro_g4[g4_neg].log_gro_rna_ratio, gro_g4[g4_pos].log_gro_rna_ratio))\n",
    "g4_neg = gro_g4.max_g4seeqer_score_template < 0.05\n",
    "g4_pos = gro_g4.max_g4seeqer_score_template >= 0.95\n",
    "sns.distplot(gro_g4[g4_neg].log_gro_rna_ratio, label='non-G4', bins=np.linspace(-6, 6, 15), ax=axes[1])\n",
    "sns.distplot(gro_g4[g4_pos].log_gro_rna_ratio, label='G4', bins=np.linspace(-6, 6, 15), ax=axes[1])\n",
    "axes[1].set_xlim(-4, 8)\n",
    "axes[1].set_xlabel('Log2 GRO / RNAseq reads')\n",
    "axes[0].set_ylabel('Density')\n",
    "print(stats.ttest_ind(gro_g4[g4_neg].log_gro_rna_ratio, gro_g4[g4_pos].log_gro_rna_ratio))\n",
    "plt.legend()\n",
    "plt.savefig('gro_rna_ratio_g4seeqer.svg')\n",
    "plt.show()"
   ]
  },
  {
   "cell_type": "code",
   "execution_count": null,
   "metadata": {},
   "outputs": [],
   "source": [
    "gro_g4 = res_prot_coding.join(g4_max_density, how='left')\n",
    "fig, axes = plt.subplots(figsize=(10, 5), ncols=2, sharey=True)\n",
    "g4_neg = gro_g4.max_g4_density_coding < 1\n",
    "g4_pos = gro_g4.max_g4_density_coding > 3\n",
    "sns.distplot(gro_g4[g4_neg].log_gro_rna_ratio, label='non-G4', bins=np.linspace(-6, 6, 15), ax=axes[0])\n",
    "sns.distplot(gro_g4[g4_pos].log_gro_rna_ratio, label='G4', bins=np.linspace(-6, 6, 15), ax=axes[0])\n",
    "axes[0].set_xlim(-4, 8)\n",
    "axes[0].set_xlabel('Log2 GRO / RNAseq reads')\n",
    "print(stats.ttest_ind(gro_g4[g4_neg].log_gro_rna_ratio, gro_g4[g4_pos].log_gro_rna_ratio))\n",
    "g4_neg = gro_g4.max_g4_density_template < 1\n",
    "g4_pos = gro_g4.max_g4_density_template > 3\n",
    "sns.distplot(gro_g4[g4_neg].log_gro_rna_ratio, label='non-G4', bins=np.linspace(-6, 6, 15), ax=axes[1])\n",
    "sns.distplot(gro_g4[g4_pos].log_gro_rna_ratio, label='G4', bins=np.linspace(-6, 6, 15), ax=axes[1])\n",
    "axes[1].set_xlim(-4, 8)\n",
    "axes[1].set_xlabel('Log2 GRO / RNAseq reads')\n",
    "axes[0].set_ylabel('Density')\n",
    "print(stats.ttest_ind(gro_g4[g4_neg].log_gro_rna_ratio, gro_g4[g4_pos].log_gro_rna_ratio))\n",
    "plt.legend()\n",
    "plt.savefig('gro_rna_ratio_g4_max_density.svg')\n",
    "plt.show()"
   ]
  },
  {
   "cell_type": "code",
   "execution_count": null,
   "metadata": {},
   "outputs": [],
   "source": [
    "stats.ttest_ind(gro_g4[g4_neg].log_gro_rna_ratio, gro_g4[g4_pos].log_gro_rna_ratio)"
   ]
  },
  {
   "cell_type": "code",
   "execution_count": null,
   "metadata": {},
   "outputs": [],
   "source": [
    "!head /home/matthew/sharc_fastdata/groseq/gro_vs_rna_counts.tsv"
   ]
  },
  {
   "cell_type": "code",
   "execution_count": null,
   "metadata": {},
   "outputs": [],
   "source": [
    "%%R -o gene_ids\n",
    "\n",
    "hg38_counts <- read.table('/home/matthew/sharc_fastdata/groseq/gro_vs_rna_counts.tsv',\n",
    "                          comment='#', header=TRUE, row.names = 1)\n",
    "hg38_counts <- hg38_counts[,6:ncol(hg38_counts)]\n",
    "hg38_counts <- hg38_counts[rowSums(hg38_counts > 1) >= 2,]\n",
    "colnames(hg38_counts) <- c('gro_1', 'gro_2', 'rna_1', 'rna_2')\n",
    "hg38_colData <- data.frame(row.names=colnames(hg38_counts), \n",
    "                           exp_type=rep(c('gro', 'rna'), each=2))\n",
    "hg38_dds <- DESeqDataSetFromMatrix(hg38_counts, colData = hg38_colData, design = ~ exp_type)\n",
    "hg38_dds <- estimateSizeFactors(hg38_dds)"
   ]
  },
  {
   "cell_type": "code",
   "execution_count": null,
   "metadata": {},
   "outputs": [],
   "source": [
    "%%R\n",
    "hg38_logcpm <- log2(counts(hg38_dds, normalized=TRUE))\n",
    "hg38_logcpm[is.infinite(hg38_logcpm)] <- 0\n",
    "hg38_logcpm <- as.data.frame(hg38_logcpm)\n",
    "hg38_logcpm[,'gro_av_exprs'] = rowMeans(hg38_logcpm[,1:2])\n",
    "hg38_logcpm[,'rna_av_exprs'] = rowMeans(hg38_logcpm[,3:4])\n",
    "g <- ggplot(data=hg38_logcpm, mapping=aes(x=gro_av_exprs, y=rna_av_exprs))\n",
    "g <- g + geom_point(shape='x')\n",
    "g"
   ]
  },
  {
   "cell_type": "code",
   "execution_count": null,
   "metadata": {},
   "outputs": [],
   "source": [
    "%%R -o hg38_logcpm\n",
    "hg38_logcpm[,'log_gro_rna_ratio'] = hg38_logcpm[,'gro_av_exprs'] - hg38_logcpm[,'rna_av_exprs']"
   ]
  },
  {
   "cell_type": "code",
   "execution_count": null,
   "metadata": {},
   "outputs": [],
   "source": [
    "hg38_logcpm.head()"
   ]
  },
  {
   "cell_type": "code",
   "execution_count": null,
   "metadata": {},
   "outputs": [],
   "source": [
    "sns.distplot(hg38_logcpm.log_gro_rna_ratio)\n",
    "plt.show()"
   ]
  },
  {
   "cell_type": "code",
   "execution_count": null,
   "metadata": {},
   "outputs": [],
   "source": [
    "%%bash\n",
    "awk '$3 == \"transcript\"' /home/matthew/sharc_fastdata/groseq/hg38_geneset.gtf | \\\n",
    "grep \"protein_coding\" | \\\n",
    "awk '{print $10}' | uniq | \\\n",
    "sed 's/[\";]//g' > ./hg38_prot_coding.txt"
   ]
  },
  {
   "cell_type": "code",
   "execution_count": null,
   "metadata": {},
   "outputs": [],
   "source": [
    "hg38_prot_coding = !cat hg38_prot_coding.txt\n",
    "hg38_prot_coding = set([x.strip() for x in hg38_prot_coding])"
   ]
  },
  {
   "cell_type": "code",
   "execution_count": null,
   "metadata": {},
   "outputs": [],
   "source": [
    "sns.distplot(hg38_logcpm[hg38_logcpm.index.isin(hg38_prot_coding)].log_gro_rna_ratio, label='prot-coding')\n",
    "sns.distplot(hg38_logcpm[~hg38_logcpm.index.isin(hg38_prot_coding)].log_gro_rna_ratio, label='non-coding')\n",
    "plt.legend(loc=0)\n",
    "plt.show()"
   ]
  },
  {
   "cell_type": "code",
   "execution_count": 66,
   "metadata": {},
   "outputs": [
    {
     "name": "stderr",
     "output_type": "stream",
     "text": [
      "2018-04-11 18:22:07.456321: I tensorflow/core/platform/cpu_feature_guard.cc:137] Your CPU supports instructions that this TensorFlow binary was not compiled to use: SSE4.1 SSE4.2 AVX AVX2 FMA\n",
      "Using TensorFlow backend.\n"
     ]
    }
   ],
   "source": [
    "%%bash\n",
    "source activate ml_python35\n",
    "g4seeqer -ts 0 -p 4 \\\n",
    "  -f /home/matthew/iceberg_shared/General/mirror/genomes/faidx/hg38.fa \\\n",
    "  -b hg38_g4seeqer.bed"
   ]
  },
  {
   "cell_type": "code",
   "execution_count": 83,
   "metadata": {},
   "outputs": [],
   "source": [
    "%%bash\n",
    "source activate cgat_python2\n",
    "zcat  /home/matthew/iceberg_shared/General/annotations/hg38_ensembl85/ensembl.dir/geneset_all.gtf.gz |\n",
    "cgat gtf2gtf --method=\"merge-transcripts\" -L /dev/null | \\\n",
    "awk -v OFS='\\t' '{print $1, $4, $5, $10, \".\", $7}' | sed 's/[;\"]//g' | sort -k1,1 -k2,2n > hg38_genes.bed"
   ]
  },
  {
   "cell_type": "code",
   "execution_count": 84,
   "metadata": {},
   "outputs": [],
   "source": [
    "%%bash\n",
    "source activate cgat_python2\n",
    "\n",
    "sort -k1,1 -k2,2n hg38_g4seeqer.bed > hg38_g4seeqer.sorted.bed\n",
    "\n",
    "bedtools map -sorted -c 4 -o max -s -prec 2 -F 0.75 \\\n",
    "  -a hg38_genes.bed \\\n",
    "  -b hg38_g4seeqer.sorted.bed > hg38_g4seeqer_pos_max_score.bed\n",
    "\n",
    "bedtools map -sorted -c 4 -o max -S -prec 2 -F 0.75 \\\n",
    "  -a hg38_genes.bed \\\n",
    "  -b hg38_g4seeqer.sorted.bed > hg38_g4seeqer_neg_max_score.bed"
   ]
  },
  {
   "cell_type": "code",
   "execution_count": 85,
   "metadata": {},
   "outputs": [
    {
     "data": {
      "text/html": [
       "<div>\n",
       "<style>\n",
       "    .dataframe thead tr:only-child th {\n",
       "        text-align: right;\n",
       "    }\n",
       "\n",
       "    .dataframe thead th {\n",
       "        text-align: left;\n",
       "    }\n",
       "\n",
       "    .dataframe tbody tr th {\n",
       "        vertical-align: top;\n",
       "    }\n",
       "</style>\n",
       "<table border=\"1\" class=\"dataframe\">\n",
       "  <thead>\n",
       "    <tr style=\"text-align: right;\">\n",
       "      <th></th>\n",
       "      <th>max_g4seeqer_score_coding</th>\n",
       "      <th>max_g4seeqer_score_template</th>\n",
       "    </tr>\n",
       "    <tr>\n",
       "      <th>gene_id</th>\n",
       "      <th></th>\n",
       "      <th></th>\n",
       "    </tr>\n",
       "  </thead>\n",
       "  <tbody>\n",
       "    <tr>\n",
       "      <th>ENSG00000223972</th>\n",
       "      <td>0.63</td>\n",
       "      <td>0.60</td>\n",
       "    </tr>\n",
       "    <tr>\n",
       "      <th>ENSG00000227232</th>\n",
       "      <td>0.99</td>\n",
       "      <td>0.98</td>\n",
       "    </tr>\n",
       "    <tr>\n",
       "      <th>ENSG00000278267</th>\n",
       "      <td>0.00</td>\n",
       "      <td>0.00</td>\n",
       "    </tr>\n",
       "    <tr>\n",
       "      <th>ENSG00000243485</th>\n",
       "      <td>0.67</td>\n",
       "      <td>0.98</td>\n",
       "    </tr>\n",
       "    <tr>\n",
       "      <th>ENSG00000237613</th>\n",
       "      <td>0.24</td>\n",
       "      <td>0.73</td>\n",
       "    </tr>\n",
       "  </tbody>\n",
       "</table>\n",
       "</div>"
      ],
      "text/plain": [
       "                 max_g4seeqer_score_coding  max_g4seeqer_score_template\n",
       "gene_id                                                                \n",
       "ENSG00000223972                       0.63                         0.60\n",
       "ENSG00000227232                       0.99                         0.98\n",
       "ENSG00000278267                       0.00                         0.00\n",
       "ENSG00000243485                       0.67                         0.98\n",
       "ENSG00000237613                       0.24                         0.73"
      ]
     },
     "execution_count": 85,
     "metadata": {},
     "output_type": "execute_result"
    }
   ],
   "source": [
    "colnames = ['chrom', 'start', 'end', 'gene_id', 'score', 'strand', 'max_g4seeqer_score']\n",
    "converters = {'gene_id': str,\n",
    "              'max_g4seeqer_score': lambda x: 0 if x == '.' else float(x)}\n",
    "hg38_pos_g4seeqer = pd.read_csv('hg38_g4seeqer_pos_max_score.bed',\n",
    "                                sep='\\t',\n",
    "                                names=colnames,\n",
    "                                converters=converters,\n",
    "                                usecols=['gene_id', 'max_g4seeqer_score'])\n",
    "hg38_neg_g4seeqer = pd.read_csv('hg38_g4seeqer_neg_max_score.bed',\n",
    "                                sep='\\t',\n",
    "                                names=colnames,\n",
    "                                converters=converters,\n",
    "                                usecols=['gene_id', 'max_g4seeqer_score'])\n",
    "\n",
    "hg38_g4seeqer_score = hg38_pos_g4seeqer.merge(hg38_neg_g4seeqer,\n",
    "                                              on='gene_id',\n",
    "                                              suffixes=('_coding', '_template'))\n",
    "hg38_g4seeqer_score = hg38_g4seeqer_score.set_index('gene_id')\n",
    "hg38_g4seeqer_score.head()                          "
   ]
  },
  {
   "cell_type": "code",
   "execution_count": 88,
   "metadata": {},
   "outputs": [
    {
     "data": {
      "image/png": "[encoded data removed]",
      "text/plain": [
       "<matplotlib.figure.Figure at 0x7fe737ddccc0>"
      ]
     },
     "metadata": {},
     "output_type": "display_data"
    }
   ],
   "source": [
    "plt.hist(hg38_g4seeqer_score.max_g4seeqer_score_template)\n",
    "plt.show()"
   ]
  },
  {
   "cell_type": "code",
   "execution_count": 102,
   "metadata": {},
   "outputs": [
    {
     "data": {
      "image/png": "[encoded data removed]",
      "text/plain": [
       "<matplotlib.figure.Figure at 0x7fe7359fae10>"
      ]
     },
     "metadata": {},
     "output_type": "display_data"
    }
   ],
   "source": [
    "hg38_gro_g4 = hg38_logcpm[hg38_logcpm.index.isin(hg38_prot_coding)].join(hg38_g4seeqer_score, how='left')\n",
    "fig, ax = plt.subplots(figsize=(5, 5))\n",
    "g4_neg = hg38_gro_g4.max_g4seeqer_score_template < 0.01\n",
    "g4_pos = hg38_gro_g4.max_g4seeqer_score_template >= 0.99\n",
    "sns.distplot(hg38_gro_g4[g4_neg].log_gro_rna_ratio, label='no G4', bins=np.linspace(-6, 6, 15))\n",
    "sns.distplot(hg38_gro_g4[g4_pos].log_gro_rna_ratio, label='G4', bins=np.linspace(-6, 6, 15))\n",
    "#ax.set_xlim(-4, 6)\n",
    "ax.set_xlabel('Log2 GRO / RNAseq reads')\n",
    "plt.legend()\n",
    "plt.show()"
   ]
  },
  {
   "cell_type": "code",
   "execution_count": null,
   "metadata": {},
   "outputs": [],
   "source": []
  }
 ],
 "metadata": {
  "kernelspec": {
   "display_name": "Environment (conda_ml_python35)",
   "language": "python",
   "name": "conda_ml_python35"
  },
  "language_info": {
   "codemirror_mode": {
    "name": "ipython",
    "version": 3
   },
   "file_extension": ".py",
   "mimetype": "text/x-python",
   "name": "python",
   "nbconvert_exporter": "python",
   "pygments_lexer": "ipython3",
   "version": "3.5.4"
  }
 },
 "nbformat": 4,
 "nbformat_minor": 2
}
